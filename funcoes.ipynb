{
 "cells": [
  {
   "cell_type": "code",
   "execution_count": 10,
   "metadata": {},
   "outputs": [
    {
     "name": "stdout",
     "output_type": "stream",
     "text": [
      "Seja bem vindo Ana!\n"
     ]
    }
   ],
   "source": [
    "# Funções\n",
    "\n",
    "# Parametro sem valor atribuído são obrigatórios\n",
    "# Parametros com valor padrão atribuído são opcionais\n",
    "\n",
    "def exibir_mensagem(nome): # sem valor atribuído -> obrigatório\n",
    "    print(f\"Seja bem vindo {nome}!\")\n",
    "    \n",
    "exibir_mensagem(\"Ana\")"
   ]
  },
  {
   "cell_type": "code",
   "execution_count": 14,
   "metadata": {},
   "outputs": [
    {
     "name": "stdout",
     "output_type": "stream",
     "text": [
      "Olá, Ana!\n",
      "Oi, Ana!\n"
     ]
    }
   ],
   "source": [
    "def saudacao(nome, saudacao='Olá'): # nome -> obrigatório, saudação -> opcional\n",
    "    mensagem = f'{saudacao}, {nome}!'\n",
    "    return mensagem\n",
    "\n",
    "print(saudacao(\"Ana\"))\n",
    "print(saudacao(\"Ana\", \"Oi\")) # pode alterar o valor padrão"
   ]
  },
  {
   "cell_type": "code",
   "execution_count": 18,
   "metadata": {},
   "outputs": [
    {
     "name": "stdout",
     "output_type": "stream",
     "text": [
      "106\n",
      "(99, 101)\n"
     ]
    }
   ],
   "source": [
    "# Uma Função pode retornar mais de um valor -> retorna em Tuplas = imutável\n",
    "\n",
    "def calcular_total(numeros):\n",
    "    return sum(numeros)\n",
    "\n",
    "print(calcular_total([40, 56, 10])) # posso declarar uma Lista de números\n",
    "\n",
    "\n",
    "def calcular_antecessor_e_sucessor(numero):\n",
    "    antecessor = numero - 1\n",
    "    sucessor = numero + 1\n",
    "    return antecessor, sucessor # retorna os valores em uma tupla (imutável)\n",
    "\n",
    "print(calcular_antecessor_e_sucessor(100))"
   ]
  },
  {
   "cell_type": "code",
   "execution_count": 20,
   "metadata": {},
   "outputs": [
    {
     "name": "stdout",
     "output_type": "stream",
     "text": [
      "Carro inserido com sucesso! Honda/Civic/2017/ABV5064\n",
      "Carro inserido com sucesso! Honda/Civic/2017/ABV5064\n",
      "Carro inserido com sucesso! Honda/Civic/2017/ABV5064\n"
     ]
    }
   ],
   "source": [
    "# Argumentos Nomeados\n",
    "\n",
    "def salvar_carros(marca, modelo, ano, placa):\n",
    "    return f\"Carro inserido com sucesso! {marca}/{modelo}/{ano}/{placa}\"\n",
    "\n",
    "\n",
    "# Sem nomear argumentos \n",
    "# -> risco de errar a ordem  inverter propriedades\n",
    "print(salvar_carros(\"Honda\", \"Civic\", \"2017\", \"ABV5064\"))\n",
    "\n",
    "# Informando agumentos nomeados \n",
    "# Esta abordagem é mais segura porque você especifica explicitamente os nomes dos parâmetros ao chamar a função.\n",
    "# -> se o nome do argumento for alterado, vai gerar erro no código\n",
    "print(salvar_carros(marca=\"Honda\", modelo=\"Civic\", ano=\"2017\", placa=\"ABV5064\"))\n",
    "\n",
    "# Utilizando um dicionário\n",
    "# Usa o operador ** para desempacotar os itens do dicionário como argumentos nomeados para a função. \n",
    "# Essa abordagem oferece a flexibilidade de reorganizar os elementos no dicionário \n",
    "# sem afetar as chamadas da função, desde que os nomes dos parâmetros permaneçam os mesmos.\n",
    "print(salvar_carros(**{\"marca\": \"Honda\", \"modelo\": \"Civic\", \"ano\": \"2017\", \"placa\": \"ABV5064\"}))\n"
   ]
  },
  {
   "cell_type": "code",
   "execution_count": null,
   "metadata": {},
   "outputs": [],
   "source": [
    "# Combinando **`args`** e **`*kwargs`**:\n",
    "# Você pode usar ambos em uma mesma função se quiser aceitar qualquer combinação de argumentos posicionais e nomeados.\n",
    "# *args -> tupla\n",
    "# **kwargs -> dicionário\n",
    "    \n",
    "def exemplo_combinado(arg1, *args, **kwargs):\n",
    "    print(f'Argumento 1: {arg1}')\n",
    "    print('Outros argumentos posicionais:')\n",
    "    for arg in args:\n",
    "        print(arg)\n",
    "        print('Argumentos nomeados:')\n",
    "    for chave, valor in kwargs.items():\n",
    "        print(f'{chave}: {valor}')\n",
    "    \n",
    "exemplo_combinado('Valor1', 2, 3, nome='Alice', idade=25)\n",
    "# Saída:\n",
    "# Argumento 1: Valor1\n",
    "# Outros argumentos posicionais:\n",
    "# 2\n",
    "# 3\n",
    "# Argumentos nomeados:\n",
    "# nome: Alice\n",
    "# idade: 25"
   ]
  },
  {
   "cell_type": "code",
   "execution_count": 21,
   "metadata": {},
   "outputs": [
    {
     "name": "stdout",
     "output_type": "stream",
     "text": [
      "22 de dezembro de 2023\n",
      "\n",
      "Título do poema\n",
      "Frase1\n",
      "Frase2\n",
      "Frase3\n",
      "Frase4\n",
      "Frase5\n",
      "\n",
      "Autor: Minha, Vozes da\n",
      "Ano: 2023\n"
     ]
    }
   ],
   "source": [
    "def exibir_poema(data_extenso, *args, **kwargs):\n",
    "    texto = \"\\n\".join(args)\n",
    "    meta_dados =\"\\n\".join([f\"{chave.title()}: {valor}\" for chave, valor in kwargs.items()])\n",
    "    mensagem = f\"{data_extenso}\\n\\n{texto}\\n\\n{meta_dados}\"\n",
    "    print(mensagem)\n",
    "\n",
    "exibir_poema(\"22 de dezembro de 2023\", \"Título do poema\", \"Frase1\", \"Frase2\", \"Frase3\",\"Frase4\",\"Frase5\", autor=\"Minha, Vozes da\", ano=\"2023\")"
   ]
  },
  {
   "cell_type": "code",
   "execution_count": null,
   "metadata": {},
   "outputs": [],
   "source": [
    "def exibir_poema(data_extenso, *args, **kwargs):\n",
    "    \"\"\"\n",
    "    Exibe um poema formatado.\n",
    "\n",
    "    Args:\n",
    "        data_extenso (str): A data por extenso do poema.\n",
    "        *args (tuple): Frases do poema.\n",
    "        **kwargs (dict): Meta-dados do poema, como autor e ano.\n",
    "\n",
    "    Returns:\n",
    "        None: A função apenas imprime a mensagem formatada.\n",
    "    \"\"\"\n",
    "    texto = \"\\n\".join(args)\n",
    "    meta_dados =\"\\n\".join([f\"{chave.title()}: {valor}\" for chave, valor in kwargs.items()])\n",
    "    mensagem = f\"{data_extenso}\\n\\n{texto}\\n\\n{meta_dados}\"\n",
    "    print(mensagem)\n",
    "\n",
    "exibir_poema(\"22 de dezembro de 2023\", \"Título do poema\", \"Frase1\", \"Frase2\", \"Frase3\",\"Frase4\",\"Frase5\", autor=\"Minha, Vozes da\", ano=\"2023\")"
   ]
  },
  {
   "cell_type": "code",
   "execution_count": null,
   "metadata": {},
   "outputs": [],
   "source": [
    "\"\"\"\n",
    "A ordem padrão na assinatura da função em Python é:\n",
    "\n",
    "1. Parâmetros posicionais.\n",
    "2. Barra (**`/`**).\n",
    "3. Parâmetros posicionais ou nomeados.\n",
    "4. Asterisco (**``**).\n",
    "5. Parâmetros nomeados (keyword arguments ou kwargs).\n",
    "\n",
    "Essa ordem é utilizada para proporcionar clareza na chamada da função e evitar ambiguidades.\n",
    "\"\"\"\n",
    "\n",
    "def exemplo_funcao(pos1, pos2, /, pos_or_kwd, *, kwd1, kwd2):\n",
    "    # Corpo da função\n",
    "    pass"
   ]
  },
  {
   "cell_type": "code",
   "execution_count": 28,
   "metadata": {},
   "outputs": [
    {
     "name": "stdout",
     "output_type": "stream",
     "text": [
      "2500\n",
      "[500]\n",
      "2700\n",
      "[500, 200]\n"
     ]
    }
   ],
   "source": [
    "salario = 2000\n",
    "lista = []\n",
    "\n",
    "def calcular_salario_bonus(bonus, lista):\n",
    "    global salario\n",
    "    lista.append(bonus)\n",
    "    salario += bonus\n",
    "    return salario\n",
    "\n",
    "salario_com_bonus = calcular_salario_bonus(500, lista)\n",
    "print(salario_com_bonus)\n",
    "print(lista)\n",
    "\n",
    "salario_com_bonus = calcular_salario_bonus(200, lista)\n",
    "print(salario_com_bonus)\n",
    "print(lista)"
   ]
  }
 ],
 "metadata": {
  "kernelspec": {
   "display_name": "Python 3",
   "language": "python",
   "name": "python3"
  },
  "language_info": {
   "codemirror_mode": {
    "name": "ipython",
    "version": 3
   },
   "file_extension": ".py",
   "mimetype": "text/x-python",
   "name": "python",
   "nbconvert_exporter": "python",
   "pygments_lexer": "ipython3",
   "version": "3.11.6"
  }
 },
 "nbformat": 4,
 "nbformat_minor": 2
}
